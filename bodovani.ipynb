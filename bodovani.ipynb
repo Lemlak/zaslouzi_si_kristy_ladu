{
 "cells": [
  {
   "cell_type": "code",
   "execution_count": 1,
   "metadata": {},
   "outputs": [],
   "source": [
    "from matplotlib import pyplot as plt\n",
    "import numpy as np"
   ]
  },
  {
   "cell_type": "code",
   "execution_count": 9,
   "metadata": {},
   "outputs": [],
   "source": [
    "# Bodování\n",
    "bodiky = {\n",
    "    # piti\n",
    "    \"pivo\": 0.25, # 1 l\n",
    "    \"vino\": 0.35, # 1 l\n",
    "\n",
    "    # spolecny cas\n",
    "    \"romanticka_masaz\": 2, # 1 hodina\n",
    "    \"prasecinky\": 1, # dle uvazeni [0..2]\n",
    "\n",
    "    #jidlo\n",
    "    \"snidane\": 0.1,\n",
    "    \"svacina\": 0.1,\n",
    "    \"obed\": 0.3,\n",
    "    \"vecere\": 0.2,\n",
    "    \"predzvykani\": 0.1,\n",
    "\n",
    "    # bonusy\n",
    "    \"modre_pivo_na_svatbe\": 10,\n",
    "    \"souhlas_s_rodinou\": 5,\n",
    "}\n"
   ]
  },
  {
   "cell_type": "code",
   "execution_count": 12,
   "metadata": {},
   "outputs": [],
   "source": [
    "# pocty\n",
    "pocty = {\n",
    "    # piti\n",
    "    \"pivo\": sum([24*0.33]), # l\n",
    "    \"vino\": sum([0.4]), # l\n",
    "\n",
    "    # spolecny cas\n",
    "    \"romanticka_masaz\": sum([0]), # h\n",
    "    \"prasecinky\": sum([1, 1.8]), # dle uvazeni [0..2]\n",
    "\n",
    "    #jidlo\n",
    "    \"snidane\": 1,\n",
    "    \"svacina\": 1,\n",
    "    \"obed\": sum([2, 0.5]),\n",
    "    \"vecere\": 4,\n",
    "    \"predzvykani\": 1,\n",
    "\n",
    "    # bonusy\n",
    "    \"modre_pivo_na_svatbe\": 0,\n",
    "    \"souhlas_s_rodinou\": 0,\n",
    "}\n"
   ]
  },
  {
   "cell_type": "code",
   "execution_count": 13,
   "metadata": {},
   "outputs": [
    {
     "name": "stdout",
     "output_type": "stream",
     "text": [
      "Počet bodů: 6.77/100\n"
     ]
    }
   ],
   "source": [
    "celkem=0\n",
    "for key in bodiky:\n",
    "    celkem += bodiky[key]*pocty[key]\n",
    "print(f'Počet bodů: {np.round(celkem, 2)}/100')"
   ]
  }
 ],
 "metadata": {
  "kernelspec": {
   "display_name": "Python 3",
   "language": "python",
   "name": "python3"
  },
  "language_info": {
   "codemirror_mode": {
    "name": "ipython",
    "version": 3
   },
   "file_extension": ".py",
   "mimetype": "text/x-python",
   "name": "python",
   "nbconvert_exporter": "python",
   "pygments_lexer": "ipython3",
   "version": "3.8.3"
  }
 },
 "nbformat": 4,
 "nbformat_minor": 4
}
